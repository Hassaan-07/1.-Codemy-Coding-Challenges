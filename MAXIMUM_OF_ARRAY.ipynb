{
  "nbformat": 4,
  "nbformat_minor": 0,
  "metadata": {
    "colab": {
      "name": "MAXIMUM OF ARRAY",
      "provenance": [],
      "authorship_tag": "ABX9TyMLVyKUmqxw91okHoBnby10",
      "include_colab_link": true
    },
    "kernelspec": {
      "name": "python3",
      "display_name": "Python 3"
    },
    "language_info": {
      "name": "python"
    }
  },
  "cells": [
    {
      "cell_type": "markdown",
      "metadata": {
        "id": "view-in-github",
        "colab_type": "text"
      },
      "source": [
        "<a href=\"https://colab.research.google.com/github/HassaanRaheem/1.-Codemy-Coding-Challenges/blob/main/MAXIMUM_OF_ARRAY.ipynb\" target=\"_parent\"><img src=\"https://colab.research.google.com/assets/colab-badge.svg\" alt=\"Open In Colab\"/></a>"
      ]
    },
    {
      "cell_type": "markdown",
      "metadata": {
        "id": "KFH_iAqlvP57"
      },
      "source": [
        "# **MAXIMUM OF ARRAY**\n",
        "\n",
        "\n",
        "> This problem introduces popular algorithm of the \"Linear Search\" , which should be learnt thoroughly as it is often used in programming more complex tasks (sorting etc).\n",
        "\n",
        "\n",
        "\n",
        "> A very common operation on sequence of values, or arrays is to find its external value - maximum or minimum. To achieve this you need to store current maximum (or minimum) in a separate variable, and then run through array, comparing each of its elements to this variable.\n",
        "\n",
        "\n",
        "\n",
        "\n",
        "> Whenever next value if greater than this temporary variable, this value should be copied into it.\n",
        "\n",
        "\n",
        "\n",
        "> At the end of the pass this temporary variable will hold the extreme value.\n",
        "\n",
        "\n",
        "> **Input :** `1 3 5 7 9 11 ... 295 297 299 300 298 296 ... 12 10 8 6 4 2    `\n",
        "\n",
        "\n",
        "> **Ouput :** `300`\n",
        "\n",
        "\n",
        "\n",
        "\n",
        "\n",
        "\n",
        "\n",
        "\n",
        "\n",
        "\n",
        "\n",
        "\n",
        "\n",
        "\n",
        "\n",
        "\n",
        "\n",
        "\n",
        "\n",
        "\n",
        "\n",
        "\n"
      ]
    },
    {
      "cell_type": "code",
      "metadata": {
        "colab": {
          "base_uri": "https://localhost:8080/"
        },
        "id": "4exlwXqYx_Gv",
        "outputId": "1e82b1c2-660e-4685-cb2d-bc5cb45d88ba"
      },
      "source": [
        "def max_array(arr):\n",
        "  arr_length = len(arr)\n",
        "  max = arr[0]\n",
        "  for i in range(1,arr_length):\n",
        "    if max <= arr[i]:\n",
        "      max,arr[i] = arr[i],max\n",
        "  return max  \n",
        "\n",
        "\n",
        "def min_array(arr):\n",
        "  arr_length = len(arr)\n",
        "  min = arr[0]\n",
        "  for i in range(1,arr_length):\n",
        "    if min >= arr[i]:\n",
        "      min,arr[i] = arr[i],min\n",
        "  return min\n",
        "\n",
        "\n",
        "\n",
        "input_array = [2,91,14,1550,-23,100,213,12,23,91,232,-1,20]\n",
        "max = max_array(input_array)\n",
        "print(f\"Maximum of array => {max}\")\n",
        "\n",
        "min = min_array(input_array)\n",
        "print(f\"Minimum of array => {min}\")\n"
      ],
      "execution_count": 12,
      "outputs": [
        {
          "output_type": "stream",
          "text": [
            "Maximum of array => 1550\n",
            "Minimum of array => -23\n"
          ],
          "name": "stdout"
        }
      ]
    }
  ]
}